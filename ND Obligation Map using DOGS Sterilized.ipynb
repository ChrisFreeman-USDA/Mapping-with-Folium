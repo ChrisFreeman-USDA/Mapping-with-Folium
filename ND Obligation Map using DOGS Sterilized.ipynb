{
 "cells": [
  {
   "cell_type": "code",
   "execution_count": 1,
   "id": "c2e9f8e8",
   "metadata": {},
   "outputs": [],
   "source": [
    "#import libraries\n",
    "import numpy as np\n",
    "import matplotlib as plt\n",
    "import openpyxl as openpy\n",
    "import xlrd as xlrd\n",
    "#Import necessary libraries\n",
    "import pandas as pd\n",
    "import matplotlib.pyplot as plt\n",
    "import matplotlib.colors as mcolors\n",
    "#API and geocoding libraries\n",
    "import googlemaps\n",
    "import gmplot\n",
    "#Library to generate an HTML file\n",
    "import webbrowser\n",
    "#Library that can implement a delay before or after a call\n",
    "from time import sleep\n",
    "#Map visualization libraries\n",
    "import folium\n",
    "from folium.plugins import Draw\n",
    "import geopandas as gpd\n",
    "import branca\n",
    "#Library that allows viewing of file in Jupyter\n",
    "from IPython.display import display, IFrame\n",
    "import base64\n",
    "#Library that allows for dropdown filters(not functioning as this is an executable library)\n",
    "#from streamlit_folium import st_folium"
   ]
  },
  {
   "cell_type": "code",
   "execution_count": 2,
   "id": "06a2660a",
   "metadata": {},
   "outputs": [],
   "source": [
    "df = pd.read_excel(r\"YOUR DATA SET\")"
   ]
  },
  {
   "cell_type": "code",
   "execution_count": 3,
   "id": "ac81f59a",
   "metadata": {},
   "outputs": [],
   "source": [
    "#convert custom images using base64 to work with HTML elements\n",
    "with open(\"water.png\", \"rb\") as f:\n",
    "    data = f.read()\n",
    "    encoded = base64.b64encode(data).decode(\"utf-8\")"
   ]
  },
  {
   "cell_type": "code",
   "execution_count": 7,
   "id": "ab59bae5",
   "metadata": {},
   "outputs": [
    {
     "data": {
      "text/plain": [
       "array(['Business Programs', 'Community Facilities',\n",
       "       'Single Family Housing', 'Water and Environmental'], dtype=object)"
      ]
     },
     "execution_count": 7,
     "metadata": {},
     "output_type": "execute_result"
    }
   ],
   "source": [
    "df['col1'].unique()"
   ]
  },
  {
   "cell_type": "code",
   "execution_count": 8,
   "id": "abc4faa5",
   "metadata": {},
   "outputs": [],
   "source": [
    "df=df.replace(to_replace=\"col1\", value=\"new col1\")"
   ]
  },
  {
   "cell_type": "code",
   "execution_count": 9,
   "id": "7cebedec",
   "metadata": {},
   "outputs": [
    {
     "data": {
      "text/plain": [
       "array(['Business Programs', 'Community Facilities',\n",
       "       'Single Family Housing', 'Water and Environmental'], dtype=object)"
      ]
     },
     "execution_count": 9,
     "metadata": {},
     "output_type": "execute_result"
    }
   ],
   "source": [
    "df['col1'].unique()"
   ]
  },
  {
   "cell_type": "code",
   "execution_count": 10,
   "id": "64ebedf2",
   "metadata": {},
   "outputs": [],
   "source": [
    "#shape file for single state filter\n",
    "# shape_file = gpd.read_file(r\"location of shape file\")\n",
    "# SDC = shape_file[shape_file[\"STATEFP\"]==\"46\"]\n",
    "# SDC.to_file('South Dakota Counties.geojson', driver = \"GeoJson\")"
   ]
  },
  {
   "cell_type": "code",
   "execution_count": 11,
   "id": "ac51d58d",
   "metadata": {},
   "outputs": [],
   "source": [
    "#shape file for multi state filter\n",
    "#shape_file = gpd.read_file(r\"location of shape file\")\n",
    "# filter1 = shape_file[\"STATEFP\"] == \"38\"\n",
    "# filter2 = shape_file[\"STATEFP\"] == \"46\"\n",
    "# combined_filter = filter1 & filter2\n",
    "# filter_gdf = shape_file[combined_filter]\n",
    "# filter_gdf.to_file('filter_gdf.geojson', driver = \"GeoJson\")"
   ]
  },
  {
   "cell_type": "code",
   "execution_count": 12,
   "id": "45528365",
   "metadata": {},
   "outputs": [],
   "source": [
    "#Create a DF from the GeoJson file for county outlines from their geometry\n",
    "counties = gpd.read_file(\"Name of shape file.geojson\")"
   ]
  },
  {
   "cell_type": "code",
   "execution_count": 13,
   "id": "9cd22f41",
   "metadata": {},
   "outputs": [],
   "source": [
    "#create a dropdown filter (not functioning)\n",
    "#selected_city = st.selectbox(\"Choose a Program\", df[\"Program\"].unique())"
   ]
  },
  {
   "cell_type": "code",
   "execution_count": 14,
   "id": "7ec7c77d-3397-45ef-bf85-cf862759cc5d",
   "metadata": {},
   "outputs": [
    {
     "name": "stdout",
     "output_type": "stream",
     "text": [
      "['Program', 'Sub-Program', 'State', 'Fiscal Year', 'County', 'Project Name', 'Project Description', 'latitudes', 'longitudes', 'Obligation Amount']\n"
     ]
    }
   ],
   "source": [
    "column_headers = df.columns.tolist()\n",
    "print(column_headers)"
   ]
  },
  {
   "cell_type": "code",
   "execution_count": 15,
   "id": "b32e393a-e770-4305-b161-d35d56c8bc1f",
   "metadata": {},
   "outputs": [],
   "source": [
    "# Convert the entire 'latitudes' and 'longitudes' columns to numeric,\n",
    "# coercing errors to NaN\n",
    "df['latitudes'] = pd.to_numeric(df['latitudes'], errors='coerce')\n",
    "df['longitudes'] = pd.to_numeric(df['longitudes'], errors='coerce')\n",
    "\n",
    "# Combine the columns into a tuple, filtering out rows with missing values if needed\n",
    "df = df.dropna(subset=['latitudes', 'longitudes'])\n",
    "df['coordinates'] = list(zip(df['latitudes'], df['longitudes']))\n"
   ]
  },
  {
   "cell_type": "code",
   "execution_count": 16,
   "id": "2c9337b5",
   "metadata": {},
   "outputs": [
    {
     "data": {
      "text/html": [
       "\n",
       "        <iframe\n",
       "            width=\"100%\"\n",
       "            height=\"500px\"\n",
       "            src=\"ND Obligation Map embed.html\"\n",
       "            frameborder=\"0\"\n",
       "            allowfullscreen\n",
       "            \n",
       "        ></iframe>\n",
       "        "
      ],
      "text/plain": [
       "<IPython.lib.display.IFrame at 0x1aaff1c77c0>"
      ]
     },
     "metadata": {},
     "output_type": "display_data"
    }
   ],
   "source": [
    "#Create a base map\n",
    "fmap = folium.Map(\n",
    "    location=[lat, lon], \n",
    "    control_scale=True, \n",
    "    zoom_start=7, \n",
    "    tiles='https://{s}.tile.openstreetmap.org/{z}/{x}/{y}.png', \n",
    "    attr='&copy; OpenStreetMap contributors'\n",
    ")\n",
    "#47.54 -100.437012 for ND\n",
    "#Ability to draw lines on the map\n",
    "draw = Draw(\n",
    "    draw_options={\n",
    "        'polyline': {\n",
    "            'shapeOptions': {\n",
    "                'color': 'blue',\n",
    "                'weight': 8,  # Thickness of line\n",
    "                'opacity': 0.7\n",
    "            }\n",
    "        },\n",
    "        'rectangle': False,  # Hide rectangle tool\n",
    "        'circle': False,\n",
    "        'marker': False,\n",
    "        'polygon': False,\n",
    "        'circlemarker': False\n",
    "    },\n",
    "    edit_options={'edit': True}\n",
    ")\n",
    "\n",
    "# Add Draw to map\n",
    "draw.add_to(fmap)\n",
    "\n",
    "\n",
    "#Outline counties\n",
    "folium.GeoJson(counties, name=\"counties\", style_function=lambda feature: {\n",
    "    \"fillColor\": \"#16254C\",\n",
    "    \"color\": \"#26254C\",\n",
    "    \"weight\": 1,\n",
    "    \"fillOpacity\": 0.1,\n",
    "}).add_to(fmap)\n",
    "#Opacity think in revese. 0.9 is only 10% opaque\n",
    "            \n",
    "\n",
    "# #Define colors for each category\n",
    "# program_icon_color = {\n",
    "#     'col1': 'green',\n",
    "#     'col2': 'orange',\n",
    "#     'col3': 'darkblue',\n",
    "#     'col4': 'red'\n",
    "# }\n",
    "\n",
    "\n",
    "\n",
    "# #Define Icons for each category\n",
    "# program_icon_name = {\n",
    "#     'col1': 'shop',\n",
    "#     'col 2': 'hospital',\n",
    "#     'col 3': 'water',\n",
    "#     'col 4': 'house'\n",
    "# }\n",
    "   \n",
    "    \n",
    "# For each Program, create a separate FeatureGroup\n",
    "for program in df['Program'].unique():\n",
    "    fg = folium.FeatureGroup(name=program) \n",
    "    subset = df[df['Program'] == program]\n",
    "    \n",
    "#Plot the points    \n",
    "    for _, row in subset.iterrows():\n",
    "        latlon = (row['latitudes'], row['longitudes'])\n",
    "        pname = row['Project Name']\n",
    "        \n",
    "     \n",
    "        pop_text = (\n",
    "            f\"<b>Project Description:</b> {row['col1']}<br>\"\n",
    "            f\"<b>Program:</b> {program}<br>\"\n",
    "            f\"<b>County:</b> {row['col 2']}<br>\"\n",
    "            f\"<b>Fiscal Year:</b> {row['col 3']}\"\n",
    "        )\n",
    "    \n",
    "        if program == 'col entry 1':\n",
    "            icon = folium.CustomIcon('custom icon 1.png', icon_size=(32,32))\n",
    "        elif program == 'col entry 2':\n",
    "            icon = folium.CustomIcon('custom icon 2.png', icon_size=(32,32))\n",
    "        elif program == 'col entry 3':\n",
    "            icon = folium.CustomIcon('custom icon 3.png', icon_size=(32,32))\n",
    "        elif program == 'col entry 4':\n",
    "            icon = folium.CustomIcon('custom icon 4.png', icon_size=(32,32))\n",
    "            \n",
    "            \n",
    "        folium.Marker(\n",
    "            location=latlon,\n",
    "            tooltip=pname,\n",
    "            popup=folium.Popup(pop_text, max_width=300),\n",
    "            icon=icon\n",
    "            ).add_to(fg)\n",
    "\n",
    "        fg.add_to(fmap) \n",
    "\n",
    "\n",
    "#Create a feature group\n",
    "folium.LayerControl(collapsed=True).add_to(fmap)\n",
    "              \n",
    "\n",
    "legend_html = f\"\"\"\n",
    "{{% macro html(this, kwargs) %}}\n",
    "<div style=\"\n",
    "    position: fixed; \n",
    "    bottom: 0px; left: 0px; width: 195px; height: 120px; \n",
    "    border:2px solid grey; z-index:9999; font-size:14px;\n",
    "    background-color:white; opacity: 0.9;\n",
    "    padding: 10px;\">\n",
    "<b>Legend</b><br>\n",
    "<img src=\"data:image/png;base64,{encoded}\" style=\"height:20px;\"> custom icon 1<br>\n",
    "<img src=\"data:image/png;base64,{encoded2}\" style=\"height:20px;\"> custom icon 2<br>\n",
    "<img src=\"data:image/png;base64,{encoded3}\" style=\"height:20px;\"> custom icon 3<br>\n",
    "<img src=\"data:image/png;base64,{encoded4}\" style=\"height:20px;\"> custom icon 4<br>\n",
    "</div>\n",
    "{{% endmacro %}}\n",
    "\"\"\"\n",
    "\n",
    "\n",
    "legend = branca.element.MacroElement()\n",
    "legend._template = branca.element.Template(legend_html)\n",
    "\n",
    "fmap.get_root().add_child(legend)\n",
    "    \n",
    "#Print the map  \n",
    "fmap.save('name of file.html')\n",
    "\n",
    "#Display map in Juypter\n",
    "display(IFrame('name of file.html', width='100%', height='500px'))"
   ]
  }
 ],
 "metadata": {
  "kernelspec": {
   "display_name": "Python 3 (ipykernel)",
   "language": "python",
   "name": "python3"
  },
  "language_info": {
   "codemirror_mode": {
    "name": "ipython",
    "version": 3
   },
   "file_extension": ".py",
   "mimetype": "text/x-python",
   "name": "python",
   "nbconvert_exporter": "python",
   "pygments_lexer": "ipython3",
   "version": "3.10.2"
  }
 },
 "nbformat": 4,
 "nbformat_minor": 5
}
